{
 "cells": [
  {
   "cell_type": "code",
   "execution_count": 2,
   "id": "eb553591-a3c3-4fd8-94a0-1a443f2e8909",
   "metadata": {},
   "outputs": [],
   "source": [
    "import pandas as pd\n",
    "import time\n",
    "from selenium import webdriver\n",
    "from webdriver_manager.chrome import ChromeDriverManager\n",
    "from selenium.webdriver.common.by import By\n",
    "import matplotlib.pyplot as plt"
   ]
  },
  {
   "cell_type": "code",
   "execution_count": 3,
   "id": "a04a68ee-f222-487a-b4fa-d7f68e1983cb",
   "metadata": {},
   "outputs": [
    {
     "name": "stderr",
     "output_type": "stream",
     "text": [
      "C:\\Users\\xyux2\\AppData\\Local\\Temp\\ipykernel_15444\\2044220667.py:2: DeprecationWarning: executable_path has been deprecated, please pass in a Service object\n",
      "  driver = webdriver.Chrome(ChromeDriverManager().install())\n"
     ]
    }
   ],
   "source": [
    "# Create driver\n",
    "driver = webdriver.Chrome(ChromeDriverManager().install())\n",
    "\n",
    "# Go to the characters in books page\n",
    "page_url = \"https://eldenring.wiki.fextralife.com/Lore#character\"\n",
    "driver.get(page_url)\n",
    "time.sleep(3) # wait to render all elements\n",
    "\n",
    "# Finding characters\n",
    "characters = driver.find_elements(by = By.CLASS_NAME,value = 'special')\n"
   ]
  },
  {
   "cell_type": "code",
   "execution_count": 4,
   "id": "2604e998-a926-4d48-b81a-50eb2905cbff",
   "metadata": {
    "collapsed": true,
    "jupyter": {
     "outputs_hidden": true
    },
    "tags": []
   },
   "outputs": [
    {
     "data": {
      "text/plain": [
       "[<selenium.webdriver.remote.webelement.WebElement (session=\"bbdbebe076be663f281267f9261ca022\", element=\"8c528503-770e-4504-b769-7e7873dd8111\")>,\n",
       " <selenium.webdriver.remote.webelement.WebElement (session=\"bbdbebe076be663f281267f9261ca022\", element=\"3decb0ac-d632-409d-b378-f49b8004708e\")>,\n",
       " <selenium.webdriver.remote.webelement.WebElement (session=\"bbdbebe076be663f281267f9261ca022\", element=\"e1a0510c-5a58-4156-9fb2-a364d701c8b2\")>,\n",
       " <selenium.webdriver.remote.webelement.WebElement (session=\"bbdbebe076be663f281267f9261ca022\", element=\"c65b3a97-f95c-4253-a2b8-0a92e473acb6\")>,\n",
       " <selenium.webdriver.remote.webelement.WebElement (session=\"bbdbebe076be663f281267f9261ca022\", element=\"22565f8c-b268-41cd-80e0-9498b2f42058\")>,\n",
       " <selenium.webdriver.remote.webelement.WebElement (session=\"bbdbebe076be663f281267f9261ca022\", element=\"5f5a2bfe-1419-4b44-9c54-ae4ff4d703ba\")>,\n",
       " <selenium.webdriver.remote.webelement.WebElement (session=\"bbdbebe076be663f281267f9261ca022\", element=\"ffc508cb-b603-4027-970a-8620ebd67567\")>,\n",
       " <selenium.webdriver.remote.webelement.WebElement (session=\"bbdbebe076be663f281267f9261ca022\", element=\"4de4cbd8-d3dd-4477-a925-a3a8f5d4f7dd\")>,\n",
       " <selenium.webdriver.remote.webelement.WebElement (session=\"bbdbebe076be663f281267f9261ca022\", element=\"c46746d1-be8e-4e93-b594-942ada15f6c9\")>,\n",
       " <selenium.webdriver.remote.webelement.WebElement (session=\"bbdbebe076be663f281267f9261ca022\", element=\"945d273a-3c87-4fec-b101-ba5236d29086\")>,\n",
       " <selenium.webdriver.remote.webelement.WebElement (session=\"bbdbebe076be663f281267f9261ca022\", element=\"12c330a6-4e9b-4247-a877-066fd61b428e\")>,\n",
       " <selenium.webdriver.remote.webelement.WebElement (session=\"bbdbebe076be663f281267f9261ca022\", element=\"b0dabc19-08ab-4e12-91b9-04ed0b87038f\")>,\n",
       " <selenium.webdriver.remote.webelement.WebElement (session=\"bbdbebe076be663f281267f9261ca022\", element=\"c39e9d8d-de72-4ea9-b648-426171e92bcf\")>,\n",
       " <selenium.webdriver.remote.webelement.WebElement (session=\"bbdbebe076be663f281267f9261ca022\", element=\"46af7124-ae60-40a8-aeba-ec9c331e0706\")>,\n",
       " <selenium.webdriver.remote.webelement.WebElement (session=\"bbdbebe076be663f281267f9261ca022\", element=\"daced52e-5653-488e-8544-f9810b9d6815\")>,\n",
       " <selenium.webdriver.remote.webelement.WebElement (session=\"bbdbebe076be663f281267f9261ca022\", element=\"11240e1a-bf0e-4d85-afa9-e4b7bc8e1c14\")>,\n",
       " <selenium.webdriver.remote.webelement.WebElement (session=\"bbdbebe076be663f281267f9261ca022\", element=\"12cb3276-c3c3-408b-bcab-3296db7bf691\")>,\n",
       " <selenium.webdriver.remote.webelement.WebElement (session=\"bbdbebe076be663f281267f9261ca022\", element=\"ad4b9701-aa45-467d-9845-9de01ec22ef6\")>,\n",
       " <selenium.webdriver.remote.webelement.WebElement (session=\"bbdbebe076be663f281267f9261ca022\", element=\"a2bc06da-34b9-45ee-bdf1-eee2a86e5307\")>,\n",
       " <selenium.webdriver.remote.webelement.WebElement (session=\"bbdbebe076be663f281267f9261ca022\", element=\"5cc224a0-8364-4584-b067-d4a03a5bef58\")>,\n",
       " <selenium.webdriver.remote.webelement.WebElement (session=\"bbdbebe076be663f281267f9261ca022\", element=\"7ed7bebd-8fcb-4dc4-a2c6-e5d401d35138\")>,\n",
       " <selenium.webdriver.remote.webelement.WebElement (session=\"bbdbebe076be663f281267f9261ca022\", element=\"e5cb5467-ddba-4120-95fb-9c659641678b\")>,\n",
       " <selenium.webdriver.remote.webelement.WebElement (session=\"bbdbebe076be663f281267f9261ca022\", element=\"4fabf9f2-7e9f-4aec-8852-123d55078a05\")>,\n",
       " <selenium.webdriver.remote.webelement.WebElement (session=\"bbdbebe076be663f281267f9261ca022\", element=\"b6593ddc-53df-46b5-ba57-c6c24afd1d3e\")>,\n",
       " <selenium.webdriver.remote.webelement.WebElement (session=\"bbdbebe076be663f281267f9261ca022\", element=\"49c963ce-07b1-45a7-84a9-94fcd202bd7c\")>,\n",
       " <selenium.webdriver.remote.webelement.WebElement (session=\"bbdbebe076be663f281267f9261ca022\", element=\"291c7327-8c36-4dc0-b77c-4816ba22e2b2\")>,\n",
       " <selenium.webdriver.remote.webelement.WebElement (session=\"bbdbebe076be663f281267f9261ca022\", element=\"7742b9a3-2e35-49b0-9f2f-b3d8212bf0f3\")>,\n",
       " <selenium.webdriver.remote.webelement.WebElement (session=\"bbdbebe076be663f281267f9261ca022\", element=\"fae316eb-e7de-4138-a261-62b20c9b8bc9\")>,\n",
       " <selenium.webdriver.remote.webelement.WebElement (session=\"bbdbebe076be663f281267f9261ca022\", element=\"fbad568f-c653-42c8-900b-ed69ecc9dc5f\")>,\n",
       " <selenium.webdriver.remote.webelement.WebElement (session=\"bbdbebe076be663f281267f9261ca022\", element=\"1899b547-ee70-44a5-a826-7bcbe4a2775b\")>,\n",
       " <selenium.webdriver.remote.webelement.WebElement (session=\"bbdbebe076be663f281267f9261ca022\", element=\"9dfa97a2-7229-47ec-ad15-18421794c6b2\")>,\n",
       " <selenium.webdriver.remote.webelement.WebElement (session=\"bbdbebe076be663f281267f9261ca022\", element=\"d16c3cf1-bcb7-4737-aaf7-4616d8443e15\")>,\n",
       " <selenium.webdriver.remote.webelement.WebElement (session=\"bbdbebe076be663f281267f9261ca022\", element=\"cddef452-6576-41e9-8ad8-ab8c2165f208\")>,\n",
       " <selenium.webdriver.remote.webelement.WebElement (session=\"bbdbebe076be663f281267f9261ca022\", element=\"8721a023-f481-48fe-a738-aad4f0252ab8\")>,\n",
       " <selenium.webdriver.remote.webelement.WebElement (session=\"bbdbebe076be663f281267f9261ca022\", element=\"4110c9ee-c454-4f72-b30b-bc10627d201e\")>,\n",
       " <selenium.webdriver.remote.webelement.WebElement (session=\"bbdbebe076be663f281267f9261ca022\", element=\"5c275746-9e38-4872-af17-2b36fcdd07ea\")>,\n",
       " <selenium.webdriver.remote.webelement.WebElement (session=\"bbdbebe076be663f281267f9261ca022\", element=\"17db0de1-d66a-455f-b3aa-c07f2b7ed655\")>,\n",
       " <selenium.webdriver.remote.webelement.WebElement (session=\"bbdbebe076be663f281267f9261ca022\", element=\"a8f2eb21-ccdf-41d1-8f31-ffa3f25da15b\")>,\n",
       " <selenium.webdriver.remote.webelement.WebElement (session=\"bbdbebe076be663f281267f9261ca022\", element=\"b8eb9eea-783b-4766-bed4-8f92a37b6d20\")>,\n",
       " <selenium.webdriver.remote.webelement.WebElement (session=\"bbdbebe076be663f281267f9261ca022\", element=\"65cbab3d-7cc8-4c3f-82bf-698d504bb84c\")>,\n",
       " <selenium.webdriver.remote.webelement.WebElement (session=\"bbdbebe076be663f281267f9261ca022\", element=\"3fb5656a-643a-44ad-9ec8-e15f03339244\")>,\n",
       " <selenium.webdriver.remote.webelement.WebElement (session=\"bbdbebe076be663f281267f9261ca022\", element=\"c75161b9-8333-420d-abe0-ba44a6ad0e52\")>,\n",
       " <selenium.webdriver.remote.webelement.WebElement (session=\"bbdbebe076be663f281267f9261ca022\", element=\"113f00be-4e87-48b8-ac80-857572f394c9\")>,\n",
       " <selenium.webdriver.remote.webelement.WebElement (session=\"bbdbebe076be663f281267f9261ca022\", element=\"81a9fa29-c1b4-4585-bf47-e7f562c03b47\")>,\n",
       " <selenium.webdriver.remote.webelement.WebElement (session=\"bbdbebe076be663f281267f9261ca022\", element=\"9ede3cfa-a783-419a-8995-bca5c7d23d6e\")>,\n",
       " <selenium.webdriver.remote.webelement.WebElement (session=\"bbdbebe076be663f281267f9261ca022\", element=\"9381fcd2-5616-4fb9-bcef-da660798a272\")>,\n",
       " <selenium.webdriver.remote.webelement.WebElement (session=\"bbdbebe076be663f281267f9261ca022\", element=\"23a8ab58-c377-4cb6-811c-1ad87a9e5a3a\")>,\n",
       " <selenium.webdriver.remote.webelement.WebElement (session=\"bbdbebe076be663f281267f9261ca022\", element=\"aed1caa7-ea35-4cbe-b2f9-025cf90ac5a5\")>,\n",
       " <selenium.webdriver.remote.webelement.WebElement (session=\"bbdbebe076be663f281267f9261ca022\", element=\"ca94ba45-fb80-4b6d-bfb3-3f0f06ddd978\")>,\n",
       " <selenium.webdriver.remote.webelement.WebElement (session=\"bbdbebe076be663f281267f9261ca022\", element=\"83e8089f-405e-4361-84ff-f51321702ee7\")>,\n",
       " <selenium.webdriver.remote.webelement.WebElement (session=\"bbdbebe076be663f281267f9261ca022\", element=\"ef5f6340-06de-4809-a42b-f043c882238a\")>,\n",
       " <selenium.webdriver.remote.webelement.WebElement (session=\"bbdbebe076be663f281267f9261ca022\", element=\"f1df5a02-0975-409f-909c-3d328e89f896\")>,\n",
       " <selenium.webdriver.remote.webelement.WebElement (session=\"bbdbebe076be663f281267f9261ca022\", element=\"446dfe85-b7c1-4b5e-a762-dd77b0e5fdd9\")>,\n",
       " <selenium.webdriver.remote.webelement.WebElement (session=\"bbdbebe076be663f281267f9261ca022\", element=\"e9a86e83-8069-4f7e-8849-4e76dffc3358\")>,\n",
       " <selenium.webdriver.remote.webelement.WebElement (session=\"bbdbebe076be663f281267f9261ca022\", element=\"2b98eb20-c657-48eb-a6f5-b1f84021828d\")>,\n",
       " <selenium.webdriver.remote.webelement.WebElement (session=\"bbdbebe076be663f281267f9261ca022\", element=\"b9bdf484-884c-4d64-bbf0-5ac102f02ac0\")>,\n",
       " <selenium.webdriver.remote.webelement.WebElement (session=\"bbdbebe076be663f281267f9261ca022\", element=\"2b6cf870-a5d2-4555-8dfa-683c0e52f318\")>,\n",
       " <selenium.webdriver.remote.webelement.WebElement (session=\"bbdbebe076be663f281267f9261ca022\", element=\"6cc5818d-4b9f-42f6-827f-cc5b78203900\")>]"
      ]
     },
     "execution_count": 4,
     "metadata": {},
     "output_type": "execute_result"
    }
   ],
   "source": [
    "characters"
   ]
  },
  {
   "cell_type": "code",
   "execution_count": 7,
   "id": "7372d68e-222a-42c1-b5c3-2340be80262a",
   "metadata": {
    "tags": []
   },
   "outputs": [
    {
     "name": "stdout",
     "output_type": "stream",
     "text": [
      "THE LANDS BETWEEN\n",
      "THE TARNISHED\n"
     ]
    }
   ],
   "source": [
    "print(characters[5].text)\n",
    "print(characters[6].text) # Beginning of the characters appearences in 6th index\n",
    "\n"
   ]
  },
  {
   "cell_type": "code",
   "execution_count": 19,
   "id": "c0ccd1c4-0cb9-4b1b-8eea-dc090ec864cf",
   "metadata": {},
   "outputs": [
    {
     "name": "stdout",
     "output_type": "stream",
     "text": [
      "1. THE TARNISHED\n",
      "2. MELINA\n",
      "3. WHITE MASK VARRE\n",
      "4. BLOODY FINGER HUNTER YURA\n",
      "5. SORCERER ROGIER\n",
      "6. FIA\n",
      "7. D, HUNTER OF THE DEAD\n",
      "8. D, BEHOLDER OF DEATH\n",
      "9. GURRANQ, BEAST CLERGYMAN\n",
      "10. RODERIKA\n",
      "11. SMITHING MASTER HEWG\n",
      "12. NEPHELI LOUX\n",
      "13. KENNETH HAIGHT\n",
      "14. GATEKEEPER GOSTOC\n",
      "15. BOC THE SEAMSTER\n",
      "16. BROTHER CORHYN\n",
      "17. GOLDMASK\n",
      "18. GOWRY\n",
      "19. MILLICENT\n",
      "20. IRINA\n",
      "21. EDGAR\n",
      "22. HYETTA\n",
      "23. SHABRIRI\n",
      "24. RANNI THE WITCH\n",
      "25. BLAIDD\n",
      "26. WAR COUNSELOR IJI\n",
      "27. PRECEPTOR SELUVIS\n",
      "28. MERCHANT KALE\n",
      "29. WITCH-HUNTER JERREN\n",
      "30. SORCERESS SELLEN\n",
      "31. THOPS\n",
      "32. MIRIEL, PASTOR OF VOWS\n",
      "33. ALBUS\n",
      "34. LATENNA\n",
      "35. ENSHA OF THE ROYAL REMAINS\n",
      "36. TANITH\n",
      "37. BERNAHL\n",
      "38. RYA\n",
      "39. PATCHES\n",
      "40. DIALLOS\n",
      "41. JAR-BAIRN\n",
      "42. IRON FIST ALEXANDER\n",
      "43. BLACKGUARD BIG BOGGART\n",
      "44. DUNG EATER\n",
      "45. ENIA\n",
      "46. QUEEN MARIKA\n",
      "47. RADAGON OF THE GOLDEN ORDER\n",
      "48. GODFREY\n",
      "/\n",
      "HOARAH LOUX\n",
      "49. RENNALA, QUEEN OF THE FULL MOON\n",
      "50. MORGOTT, THE OMEN KING\n",
      "51. MOHG, LORD OF BLOOD\n",
      "52. RYKARD, LORD OF BLASPHEMY\n"
     ]
    }
   ],
   "source": [
    "# We still need to verify if all elements after the 6th are characters\n",
    "for i in range(6,len(characters)):\n",
    "    real_index = i - 5 # Adjusting index (format purposes only)\n",
    "    print(f'{real_index}. {characters[i].text}')\n",
    "    \n"
   ]
  },
  {
   "cell_type": "code",
   "execution_count": null,
   "id": "d6300695-dd19-4ab5-9f7b-b70e00374b35",
   "metadata": {},
   "outputs": [],
   "source": [
    "# Looks like everyone here is a character, except that / by the end which is causing some formatting problem for us.\n",
    "# We could clean it up removing the *HOARAH LOUX and sticking with Godfrey or just putting a comma instead of the \\.\n",
    "# *HOARAH LOUX is the 'true warrior form' of Godfrey, so i think in both situations we are not losing much information.\n"
   ]
  }
 ],
 "metadata": {
  "kernelspec": {
   "display_name": "Python 3 (ipykernel)",
   "language": "python",
   "name": "python3"
  },
  "language_info": {
   "codemirror_mode": {
    "name": "ipython",
    "version": 3
   },
   "file_extension": ".py",
   "mimetype": "text/x-python",
   "name": "python",
   "nbconvert_exporter": "python",
   "pygments_lexer": "ipython3",
   "version": "3.9.12"
  }
 },
 "nbformat": 4,
 "nbformat_minor": 5
}
